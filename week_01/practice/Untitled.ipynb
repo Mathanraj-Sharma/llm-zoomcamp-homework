{
 "cells": [
  {
   "cell_type": "code",
   "execution_count": 1,
   "id": "95743456-5fc6-4039-a5cd-19fda80f1485",
   "metadata": {},
   "outputs": [],
   "source": [
    "import os\n",
    "\n",
    "from huggingface_hub import InferenceClient"
   ]
  },
  {
   "cell_type": "code",
   "execution_count": 2,
   "id": "59c439d7",
   "metadata": {},
   "outputs": [],
   "source": [
    "HF_API_TOKEN = os.getenv(\"HF_API_TOKEN\")"
   ]
  },
  {
   "cell_type": "code",
   "execution_count": 17,
   "id": "412a3ff8",
   "metadata": {},
   "outputs": [],
   "source": [
    "def build_prompt(query, search_results):\n",
    "    prompt_template = \"\"\"\n",
    "        You're a course teaching assistant. Answer the QUESTION based on the CONTEXT from the FAQ database.\n",
    "        Use only the facts from the CONTEXT when answering the QUESTION.\n",
    "\n",
    "        QUESTION: {question}\n",
    "\n",
    "        CONTEXT: \n",
    "        {context}\n",
    "        \"\"\".strip()\n",
    "\n",
    "    context = \"\"\n",
    "    \n",
    "    for doc in search_results:\n",
    "        context = context + f\"section: {doc['section']}\\nquestion: {doc['question']}\\nanswer: {doc['text']}\\n\\n\"\n",
    "    \n",
    "    prompt = prompt_template.format(question=query, context=context).strip()\n",
    "    return prompt"
   ]
  },
  {
   "cell_type": "code",
   "execution_count": 18,
   "id": "fb4585da",
   "metadata": {},
   "outputs": [],
   "source": [
    "\n",
    "client = InferenceClient(model=\"h2oai/h2o-danube2-1.8b-chat\", token=HF_API_TOKEN)\n"
   ]
  },
  {
   "cell_type": "code",
   "execution_count": 32,
   "id": "378597b5",
   "metadata": {},
   "outputs": [],
   "source": [
    "response = client.text_generation(\n",
    "    \"\"\"Answer the question using the context below \\\n",
    "    CONTEXT: Gandhi's father, Karamchand Uttamchand Gandhi (1822–1885), served as the dewan (chief minister) of Porbandar state.[5][6] His family originated from the then village of Kutiana in what was then Junagadh State.[7] Although Karamchand only had been a clerk in the state administration and had an elementary education, he proved a capable chief minister.[8]\n",
    "\n",
    "During his tenure, Karamchand married four times. His first two wives died young, after each had given birth to a daughter, and his third marriage was childless. In 1857, Karamchand sought his third wife's permission to remarry; that year, he married Putlibai (1844–1891), who also came from Junagadh,[8] and was from a Pranami Vaishnava family.[9] Karamchand and Putlibai had four children: a son, Laxmidas (c. 1860–1914); a daughter, Raliatbehn (1862–1960); a second son, Karsandas (c. 1866–1913).[10][11] and a third son, Mohandas Karamchand Gandhi[12][13] who was born on 2 October 1869[14] in Porbandar (also known as Sudamapuri), a coastal town on the Kathiawar Peninsula and then part of the small princely state of Porbandar in the Kathiawar Agency of the British Raj.\n",
    "\n",
    "In 1874, Gandhi's father, Karamchand, left Porbandar for the smaller state of Rajkot, where he became a counsellor to its ruler, the Thakur Sahib; though Rajkot was a less prestigious state than Porbandar, the British regional political agency was located there, which gave the state's diwan a measure of security.[15] In 1876, Karamchand became diwan of Rajkot and was succeeded as diwan of Porbandar by his brother Tulsidas. Karamchand's family then rejoined him in Rajkot.[16]\\\n",
    "    QUESTION: What's first job of gandhi? \\\n",
    "    ANSWER: \\\n",
    "    \"\"\".strip(),\n",
    ")"
   ]
  },
  {
   "cell_type": "code",
   "execution_count": 33,
   "id": "14a8fb6b",
   "metadata": {},
   "outputs": [
    {
     "data": {
      "text/plain": [
       "'Karamchand Uttamchand Gandhi (1822–1885), served as the dewan (chief minister) of Porbandar state'"
      ]
     },
     "execution_count": 33,
     "metadata": {},
     "output_type": "execute_result"
    }
   ],
   "source": [
    "response.strip()"
   ]
  },
  {
   "cell_type": "code",
   "execution_count": null,
   "id": "35764b3c",
   "metadata": {},
   "outputs": [],
   "source": []
  }
 ],
 "metadata": {
  "kernelspec": {
   "display_name": "Python 3 (ipykernel)",
   "language": "python",
   "name": "python3"
  },
  "language_info": {
   "codemirror_mode": {
    "name": "ipython",
    "version": 3
   },
   "file_extension": ".py",
   "mimetype": "text/x-python",
   "name": "python",
   "nbconvert_exporter": "python",
   "pygments_lexer": "ipython3",
   "version": "3.10.13"
  }
 },
 "nbformat": 4,
 "nbformat_minor": 5
}

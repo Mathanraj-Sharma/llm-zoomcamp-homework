{
 "cells": [
  {
   "cell_type": "code",
   "execution_count": 1,
   "metadata": {},
   "outputs": [],
   "source": [
    "from openai import OpenAI\n",
    "\n",
    "client = OpenAI(\n",
    "    base_url=\"http://localhost:11434/v1/\",\n",
    "    api_key=\"ollama\"\n",
    ")"
   ]
  },
  {
   "cell_type": "code",
   "execution_count": 2,
   "metadata": {},
   "outputs": [
    {
     "data": {
      "text/plain": [
       "<minsearch.Index at 0x7476f3ea8a00>"
      ]
     },
     "execution_count": 2,
     "metadata": {},
     "output_type": "execute_result"
    }
   ],
   "source": [
    "import requests \n",
    "import minsearch\n",
    "\n",
    "docs_url = 'https://github.com/DataTalksClub/llm-zoomcamp/blob/main/01-intro/documents.json?raw=1'\n",
    "docs_response = requests.get(docs_url)\n",
    "documents_raw = docs_response.json()\n",
    "\n",
    "documents = []\n",
    "\n",
    "for course in documents_raw:\n",
    "    course_name = course['course']\n",
    "\n",
    "    for doc in course['documents']:\n",
    "        doc['course'] = course_name\n",
    "        documents.append(doc)\n",
    "\n",
    "index = minsearch.Index(\n",
    "    text_fields=[\"question\", \"text\", \"section\"],\n",
    "    keyword_fields=[\"course\"]\n",
    ")\n",
    "\n",
    "index.fit(documents)"
   ]
  },
  {
   "cell_type": "code",
   "execution_count": 3,
   "metadata": {},
   "outputs": [],
   "source": [
    "def search(query):\n",
    "    boost = {'question': 3.0, 'section': 0.5}\n",
    "\n",
    "    results = index.search(\n",
    "        query=query,\n",
    "        filter_dict={'course': 'data-engineering-zoomcamp'},\n",
    "        boost_dict=boost,\n",
    "        num_results=5\n",
    "    )\n",
    "\n",
    "    return results"
   ]
  },
  {
   "cell_type": "code",
   "execution_count": 4,
   "metadata": {},
   "outputs": [],
   "source": [
    "def build_prompt(query, search_results):\n",
    "    prompt_template = \"\"\"\n",
    "You're a course teaching assistant. Answer the QUESTION based on the CONTEXT from the FAQ database.\n",
    "Use only the facts from the CONTEXT when answering the QUESTION.\n",
    "\n",
    "QUESTION: {question}\n",
    "\n",
    "CONTEXT:\n",
    "{context}\n",
    "\"\"\".strip()\n",
    "\n",
    "    context = \"\"\n",
    "    \n",
    "    for doc in search_results:\n",
    "        context = context + f\"section: {doc['section']}\\nquestion: {doc['question']}\\nanswer: {doc['text']}\\n\\n\"\n",
    "    \n",
    "    prompt = prompt_template.format(question=query, context=context).strip()\n",
    "    return prompt"
   ]
  },
  {
   "cell_type": "code",
   "execution_count": 5,
   "metadata": {},
   "outputs": [],
   "source": [
    "def llm(prompt):\n",
    "    response = client.chat.completions.create(\n",
    "        model='phi3',\n",
    "        messages=[{\"role\": \"user\", \"content\": prompt}]\n",
    "    )\n",
    "    return response.choices[0].message.content"
   ]
  },
  {
   "cell_type": "code",
   "execution_count": 6,
   "metadata": {},
   "outputs": [],
   "source": [
    "def rag(query):\n",
    "    search_results = search(query)\n",
    "    prompt = build_prompt(query, search_results)\n",
    "    answer = llm(prompt)\n",
    "    return answer"
   ]
  },
  {
   "cell_type": "code",
   "execution_count": 7,
   "metadata": {},
   "outputs": [
    {
     "data": {
      "text/plain": [
       "' Answering QUESTION based on CONTEXT from FAQ database:\\n\\nAs an AI, I don\\'t have access to real-time systems or databases like DataTalks.Club, but assuming this hypothetical course scenario follows common practices for online courses with start and end dates mentioned in the context: Generally speaking (and using standard conventions), if you find yourself registered after the official start date of a university or platform\\'s academic term, it would depend on how that institution handles such cases.\\n\\nBased on your provided CONTEXT from an FAQ database related to general course questions at DataTalks.Club: If someone inquires whether they can join a course once started and the answer in this context is \"Yes,\" even if not registered, it suggests some leniency might be applied regarding homework submission deadlines while registration happens later—but always check specific guidelines as these may vary widely across institutions and courses.\\n\\nNevertheless, given that no direct mention of post-start course join permissions or policies is provided in the CONTEXT you\\'ve presented for DataTalks.Club FAQs regarding already started courses, one can only speculate based on typical scenarios: If this were a standard online platform without strict adherence to start dates (like many MOOC platforms), students might still be able to register afterward but should seek confirmation from the instructor or course administrators for clarity. Always refer back to specific FAQs and guidelines provided by the institution hosting your course, as policies can differ greatly between courses at different universities or organizations.'"
      ]
     },
     "execution_count": 7,
     "metadata": {},
     "output_type": "execute_result"
    }
   ],
   "source": [
    "rag(\"Course is already started, can I still join?\")"
   ]
  },
  {
   "cell_type": "code",
   "execution_count": 8,
   "metadata": {},
   "outputs": [
    {
     "name": "stdout",
     "output_type": "stream",
     "text": [
      " Answering QUESTION based on CONTEXT from FAQ database:\n",
      "\n",
      "As an AI, I don't have access to real-time systems or databases like DataTalks.Club, but assuming this hypothetical course scenario follows common practices for online courses with start and end dates mentioned in the context: Generally speaking (and using standard conventions), if you find yourself registered after the official start date of a university or platform's academic term, it would depend on how that institution handles such cases.\n",
      "\n",
      "Based on your provided CONTEXT from an FAQ database related to general course questions at DataTalks.Club: If someone inquires whether they can join a course once started and the answer in this context is \"Yes,\" even if not registered, it suggests some leniency might be applied regarding homework submission deadlines while registration happens later—but always check specific guidelines as these may vary widely across institutions and courses.\n",
      "\n",
      "Nevertheless, given that no direct mention of post-start course join permissions or policies is provided in the CONTEXT you've presented for DataTalks.Club FAQs regarding already started courses, one can only speculate based on typical scenarios: If this were a standard online platform without strict adherence to start dates (like many MOOC platforms), students might still be able to register afterward but should seek confirmation from the instructor or course administrators for clarity. Always refer back to specific FAQs and guidelines provided by the institution hosting your course, as policies can differ greatly between courses at different universities or organizations.\n"
     ]
    }
   ],
   "source": [
    "print(_)"
   ]
  },
  {
   "cell_type": "code",
   "execution_count": null,
   "metadata": {},
   "outputs": [],
   "source": []
  }
 ],
 "metadata": {
  "kernelspec": {
   "display_name": "llm-zoomcamp",
   "language": "python",
   "name": "python3"
  },
  "language_info": {
   "codemirror_mode": {
    "name": "ipython",
    "version": 3
   },
   "file_extension": ".py",
   "mimetype": "text/x-python",
   "name": "python",
   "nbconvert_exporter": "python",
   "pygments_lexer": "ipython3",
   "version": "3.10.13"
  }
 },
 "nbformat": 4,
 "nbformat_minor": 2
}
